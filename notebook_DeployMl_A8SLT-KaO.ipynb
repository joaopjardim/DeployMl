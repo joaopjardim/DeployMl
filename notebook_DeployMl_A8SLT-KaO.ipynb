{
 "cells": [
  {
   "cell_type": "markdown",
   "id": "cb88b59d-dda5-4eed-a291-45056a4af3e2",
   "metadata": {},
   "source": [
    "### Criação de um modelo de Machine Learning e Deploy na nuvem IBM atraves do Watsonx.AI"
   ]
  },
  {
   "cell_type": "markdown",
   "id": "8a9ecaa2-d117-4f6d-90e5-10ede7364bdc",
   "metadata": {},
   "source": [
    "##### Para esse exemplo, usaremos o banco de dados encontrado na kaggle https://www.kaggle.com/datasets/elikplim/car-evaluation-data-set?resource=download"
   ]
  },
  {
   "cell_type": "markdown",
   "id": "6f913d42-9137-4791-91bb-8ab28e106579",
   "metadata": {},
   "source": [
    "###### Utilizaremos um classificador de Random Forest padrão, com parametros Default. Após a criação do Modelo vamos fazer o deploy no wx.ai"
   ]
  },
  {
   "cell_type": "code",
   "execution_count": 1,
   "id": "7dfc2098-686e-426b-9fff-83c2e167016e",
   "metadata": {
    "id": "e13d9973-fb0a-423a-93ba-56b7cb0fa7b4"
   },
   "outputs": [],
   "source": [
    "\n",
    "# This Python 3 environment comes with many helpful analytics libraries installed\n",
    "# It is defined by the kaggle/python docker image: https://github.com/kaggle/docker-python\n",
    "# For example, here's several helpful packages to load in \n",
    "\n",
    "import numpy as np # linear algebra\n",
    "import pandas as pd # data processing, CSV file I/O (e.g. pd.read_csv)\n",
    "import matplotlib.pyplot as plt # data visualization\n",
    "import seaborn as sns # statistical data visualization\n",
    "import os\n",
    "from dotenv import load_dotenv\n",
    "%matplotlib inline\n",
    "\n",
    "# Input data files are available in the \"../input/\" directory.\n",
    "# For example, running this (by clicking run or pressing Shift+Enter) will list all files under the input directory\n",
    "\n",
    "import warnings\n",
    "\n",
    "warnings.filterwarnings('ignore')"
   ]
  },
  {
   "cell_type": "code",
   "execution_count": 2,
   "id": "588f2c70-6e1e-43c1-b374-1a3a266289b3",
   "metadata": {
    "id": "9e6f043c-8839-49cf-be88-c93705a5ec8a"
   },
   "outputs": [
    {
     "data": {
      "text/plain": [
       "True"
      ]
     },
     "execution_count": 2,
     "metadata": {},
     "output_type": "execute_result"
    }
   ],
   "source": [
    "load_dotenv()"
   ]
  },
  {
   "cell_type": "code",
   "execution_count": 3,
   "id": "a8e4cbbd-b40f-4b8b-a7e8-2497bd428039",
   "metadata": {
    "id": "45754be7-83c8-47df-8f6a-6ca3945fc4b8"
   },
   "outputs": [],
   "source": [
    "#### Lendo o arquivo contendo os dados \n",
    "\n",
    "data = 'car_evaluation.csv'\n",
    "\n",
    "df = pd.read_csv(data, header=None)"
   ]
  },
  {
   "cell_type": "code",
   "execution_count": 4,
   "id": "0ac2514f-2df1-4153-b84c-e247c0d0d22e",
   "metadata": {
    "id": "009e958d-f2b7-4133-a281-8d8f1dbdc463"
   },
   "outputs": [
    {
     "data": {
      "text/plain": [
       "(1728, 7)"
      ]
     },
     "execution_count": 4,
     "metadata": {},
     "output_type": "execute_result"
    }
   ],
   "source": [
    "# view dimensions of dataset\n",
    "\n",
    "df.shape"
   ]
  },
  {
   "cell_type": "markdown",
   "id": "ff1d217f-cd73-47e9-845c-e743e66acf43",
   "metadata": {
    "id": "ff1d217f-cd73-47e9-845c-e743e66acf43"
   },
   "source": [
    "#### Agora nas proximas celulas iremos fazer a visualização dos dados"
   ]
  },
  {
   "cell_type": "code",
   "execution_count": 5,
   "id": "c352c258-9ca4-47a9-bbb2-90bc66a9110a",
   "metadata": {
    "id": "db6e9a57-351d-48b5-8d23-2c03fe80f950"
   },
   "outputs": [
    {
     "data": {
      "text/html": [
       "<div>\n",
       "<style scoped>\n",
       "    .dataframe tbody tr th:only-of-type {\n",
       "        vertical-align: middle;\n",
       "    }\n",
       "\n",
       "    .dataframe tbody tr th {\n",
       "        vertical-align: top;\n",
       "    }\n",
       "\n",
       "    .dataframe thead th {\n",
       "        text-align: right;\n",
       "    }\n",
       "</style>\n",
       "<table border=\"1\" class=\"dataframe\">\n",
       "  <thead>\n",
       "    <tr style=\"text-align: right;\">\n",
       "      <th></th>\n",
       "      <th>0</th>\n",
       "      <th>1</th>\n",
       "      <th>2</th>\n",
       "      <th>3</th>\n",
       "      <th>4</th>\n",
       "      <th>5</th>\n",
       "      <th>6</th>\n",
       "    </tr>\n",
       "  </thead>\n",
       "  <tbody>\n",
       "    <tr>\n",
       "      <th>0</th>\n",
       "      <td>vhigh</td>\n",
       "      <td>vhigh</td>\n",
       "      <td>2</td>\n",
       "      <td>2</td>\n",
       "      <td>small</td>\n",
       "      <td>low</td>\n",
       "      <td>unacc</td>\n",
       "    </tr>\n",
       "    <tr>\n",
       "      <th>1</th>\n",
       "      <td>vhigh</td>\n",
       "      <td>vhigh</td>\n",
       "      <td>2</td>\n",
       "      <td>2</td>\n",
       "      <td>small</td>\n",
       "      <td>med</td>\n",
       "      <td>unacc</td>\n",
       "    </tr>\n",
       "    <tr>\n",
       "      <th>2</th>\n",
       "      <td>vhigh</td>\n",
       "      <td>vhigh</td>\n",
       "      <td>2</td>\n",
       "      <td>2</td>\n",
       "      <td>small</td>\n",
       "      <td>high</td>\n",
       "      <td>unacc</td>\n",
       "    </tr>\n",
       "    <tr>\n",
       "      <th>3</th>\n",
       "      <td>vhigh</td>\n",
       "      <td>vhigh</td>\n",
       "      <td>2</td>\n",
       "      <td>2</td>\n",
       "      <td>med</td>\n",
       "      <td>low</td>\n",
       "      <td>unacc</td>\n",
       "    </tr>\n",
       "    <tr>\n",
       "      <th>4</th>\n",
       "      <td>vhigh</td>\n",
       "      <td>vhigh</td>\n",
       "      <td>2</td>\n",
       "      <td>2</td>\n",
       "      <td>med</td>\n",
       "      <td>med</td>\n",
       "      <td>unacc</td>\n",
       "    </tr>\n",
       "  </tbody>\n",
       "</table>\n",
       "</div>"
      ],
      "text/plain": [
       "       0      1  2  3      4     5      6\n",
       "0  vhigh  vhigh  2  2  small   low  unacc\n",
       "1  vhigh  vhigh  2  2  small   med  unacc\n",
       "2  vhigh  vhigh  2  2  small  high  unacc\n",
       "3  vhigh  vhigh  2  2    med   low  unacc\n",
       "4  vhigh  vhigh  2  2    med   med  unacc"
      ]
     },
     "execution_count": 5,
     "metadata": {},
     "output_type": "execute_result"
    }
   ],
   "source": [
    "# preview the dataset\n",
    "\n",
    "df.head()"
   ]
  },
  {
   "cell_type": "code",
   "execution_count": 6,
   "id": "70134a05-86f5-4b2d-aac9-d58b85fc1c7f",
   "metadata": {
    "id": "e754d376-f7e3-4c1b-85d3-61141d669263"
   },
   "outputs": [
    {
     "data": {
      "text/plain": [
       "['buying', 'maint', 'doors', 'persons', 'lug_boot', 'safety', 'class']"
      ]
     },
     "execution_count": 6,
     "metadata": {},
     "output_type": "execute_result"
    }
   ],
   "source": [
    "#### Como esse dataset vem sem os headers, aqui os adicionaremos\n",
    "col_names = ['buying', 'maint', 'doors', 'persons', 'lug_boot', 'safety', 'class']\n",
    "\n",
    "\n",
    "df.columns = col_names\n",
    "\n",
    "col_names"
   ]
  },
  {
   "cell_type": "code",
   "execution_count": 7,
   "id": "c2238469-2eda-4893-82d1-0c02872af2b2",
   "metadata": {
    "id": "b61af6ab-3b17-475f-8351-ac3d765a15f3"
   },
   "outputs": [
    {
     "data": {
      "text/html": [
       "<div>\n",
       "<style scoped>\n",
       "    .dataframe tbody tr th:only-of-type {\n",
       "        vertical-align: middle;\n",
       "    }\n",
       "\n",
       "    .dataframe tbody tr th {\n",
       "        vertical-align: top;\n",
       "    }\n",
       "\n",
       "    .dataframe thead th {\n",
       "        text-align: right;\n",
       "    }\n",
       "</style>\n",
       "<table border=\"1\" class=\"dataframe\">\n",
       "  <thead>\n",
       "    <tr style=\"text-align: right;\">\n",
       "      <th></th>\n",
       "      <th>buying</th>\n",
       "      <th>maint</th>\n",
       "      <th>doors</th>\n",
       "      <th>persons</th>\n",
       "      <th>lug_boot</th>\n",
       "      <th>safety</th>\n",
       "      <th>class</th>\n",
       "    </tr>\n",
       "  </thead>\n",
       "  <tbody>\n",
       "    <tr>\n",
       "      <th>0</th>\n",
       "      <td>vhigh</td>\n",
       "      <td>vhigh</td>\n",
       "      <td>2</td>\n",
       "      <td>2</td>\n",
       "      <td>small</td>\n",
       "      <td>low</td>\n",
       "      <td>unacc</td>\n",
       "    </tr>\n",
       "    <tr>\n",
       "      <th>1</th>\n",
       "      <td>vhigh</td>\n",
       "      <td>vhigh</td>\n",
       "      <td>2</td>\n",
       "      <td>2</td>\n",
       "      <td>small</td>\n",
       "      <td>med</td>\n",
       "      <td>unacc</td>\n",
       "    </tr>\n",
       "    <tr>\n",
       "      <th>2</th>\n",
       "      <td>vhigh</td>\n",
       "      <td>vhigh</td>\n",
       "      <td>2</td>\n",
       "      <td>2</td>\n",
       "      <td>small</td>\n",
       "      <td>high</td>\n",
       "      <td>unacc</td>\n",
       "    </tr>\n",
       "    <tr>\n",
       "      <th>3</th>\n",
       "      <td>vhigh</td>\n",
       "      <td>vhigh</td>\n",
       "      <td>2</td>\n",
       "      <td>2</td>\n",
       "      <td>med</td>\n",
       "      <td>low</td>\n",
       "      <td>unacc</td>\n",
       "    </tr>\n",
       "    <tr>\n",
       "      <th>4</th>\n",
       "      <td>vhigh</td>\n",
       "      <td>vhigh</td>\n",
       "      <td>2</td>\n",
       "      <td>2</td>\n",
       "      <td>med</td>\n",
       "      <td>med</td>\n",
       "      <td>unacc</td>\n",
       "    </tr>\n",
       "  </tbody>\n",
       "</table>\n",
       "</div>"
      ],
      "text/plain": [
       "  buying  maint doors persons lug_boot safety  class\n",
       "0  vhigh  vhigh     2       2    small    low  unacc\n",
       "1  vhigh  vhigh     2       2    small    med  unacc\n",
       "2  vhigh  vhigh     2       2    small   high  unacc\n",
       "3  vhigh  vhigh     2       2      med    low  unacc\n",
       "4  vhigh  vhigh     2       2      med    med  unacc"
      ]
     },
     "execution_count": 7,
     "metadata": {},
     "output_type": "execute_result"
    }
   ],
   "source": [
    "# Vamos verificar o dataset\n",
    "\n",
    "df.head()"
   ]
  },
  {
   "cell_type": "code",
   "execution_count": 8,
   "id": "681059ad-f47a-4ac2-91c6-0eda4cc6c140",
   "metadata": {
    "id": "58a40370-a127-4f02-894f-ead9b70f929e"
   },
   "outputs": [
    {
     "name": "stdout",
     "output_type": "stream",
     "text": [
      "<class 'pandas.core.frame.DataFrame'>\n",
      "RangeIndex: 1728 entries, 0 to 1727\n",
      "Data columns (total 7 columns):\n",
      " #   Column    Non-Null Count  Dtype \n",
      "---  ------    --------------  ----- \n",
      " 0   buying    1728 non-null   object\n",
      " 1   maint     1728 non-null   object\n",
      " 2   doors     1728 non-null   object\n",
      " 3   persons   1728 non-null   object\n",
      " 4   lug_boot  1728 non-null   object\n",
      " 5   safety    1728 non-null   object\n",
      " 6   class     1728 non-null   object\n",
      "dtypes: object(7)\n",
      "memory usage: 94.6+ KB\n"
     ]
    }
   ],
   "source": [
    "df.info()"
   ]
  },
  {
   "cell_type": "code",
   "execution_count": 9,
   "id": "12d38678-096d-44d4-94f6-1440de5d2dda",
   "metadata": {
    "id": "949d8219-5ccc-49e8-a9dc-ac8b785b38c7"
   },
   "outputs": [
    {
     "name": "stdout",
     "output_type": "stream",
     "text": [
      "buying\n",
      "vhigh    432\n",
      "high     432\n",
      "med      432\n",
      "low      432\n",
      "Name: count, dtype: int64\n",
      "maint\n",
      "vhigh    432\n",
      "high     432\n",
      "med      432\n",
      "low      432\n",
      "Name: count, dtype: int64\n",
      "doors\n",
      "2        432\n",
      "3        432\n",
      "4        432\n",
      "5more    432\n",
      "Name: count, dtype: int64\n",
      "persons\n",
      "2       576\n",
      "4       576\n",
      "more    576\n",
      "Name: count, dtype: int64\n",
      "lug_boot\n",
      "small    576\n",
      "med      576\n",
      "big      576\n",
      "Name: count, dtype: int64\n",
      "safety\n",
      "low     576\n",
      "med     576\n",
      "high    576\n",
      "Name: count, dtype: int64\n",
      "class\n",
      "unacc    1210\n",
      "acc       384\n",
      "good       69\n",
      "vgood      65\n",
      "Name: count, dtype: int64\n"
     ]
    }
   ],
   "source": [
    "col_names = ['buying', 'maint', 'doors', 'persons', 'lug_boot', 'safety', 'class']\n",
    "\n",
    "\n",
    "for col in col_names:\n",
    "    \n",
    "    print(df[col].value_counts())   "
   ]
  },
  {
   "cell_type": "code",
   "execution_count": 10,
   "id": "b1bff376-cf88-472a-94b0-9ace266c6567",
   "metadata": {
    "id": "4fd56150-de89-42f4-8090-e293826eac96"
   },
   "outputs": [
    {
     "data": {
      "text/plain": [
       "class\n",
       "unacc    1210\n",
       "acc       384\n",
       "good       69\n",
       "vgood      65\n",
       "Name: count, dtype: int64"
      ]
     },
     "execution_count": 10,
     "metadata": {},
     "output_type": "execute_result"
    }
   ],
   "source": [
    "df['class'].value_counts()\n"
   ]
  },
  {
   "cell_type": "code",
   "execution_count": 11,
   "id": "afd28a4f-0d0a-4f18-880a-ec6ee06c6691",
   "metadata": {
    "id": "1df74f30-a49e-4438-9e7b-8e7d7953d8ab"
   },
   "outputs": [
    {
     "data": {
      "text/plain": [
       "buying      0\n",
       "maint       0\n",
       "doors       0\n",
       "persons     0\n",
       "lug_boot    0\n",
       "safety      0\n",
       "class       0\n",
       "dtype: int64"
      ]
     },
     "execution_count": 11,
     "metadata": {},
     "output_type": "execute_result"
    }
   ],
   "source": [
    "df.isnull().sum()\n"
   ]
  },
  {
   "cell_type": "code",
   "execution_count": 12,
   "id": "7c72a200-4c06-4a84-bc6a-d5b4e4664a28",
   "metadata": {
    "id": "7be49dc6-21b3-455e-b6f9-f62df861208c"
   },
   "outputs": [],
   "source": [
    "X = df.drop(['class'], axis=1)\n",
    "\n",
    "y = df['class']"
   ]
  },
  {
   "cell_type": "markdown",
   "id": "16ce53e9-56aa-4072-814e-b5970a607d04",
   "metadata": {},
   "source": [
    "### Divindo os dados entre treinamento e teste"
   ]
  },
  {
   "cell_type": "code",
   "execution_count": 13,
   "id": "f66ab71b-3bc6-4b28-a32f-2591185a6136",
   "metadata": {
    "id": "55f87bd9-2fed-4ad0-896f-e6092358a46c"
   },
   "outputs": [],
   "source": [
    "# Aqui, utilizando a função nativa do sklearn iremos dividir os datasets entre treino e teste\n",
    "\n",
    "from sklearn.model_selection import train_test_split\n",
    "\n",
    "X_train, X_test, y_train, y_test = train_test_split(X, y, test_size = 0.33, random_state = 42)"
   ]
  },
  {
   "cell_type": "code",
   "execution_count": 14,
   "id": "a8d502c7-5bc1-4a1c-a990-c792b7d01249",
   "metadata": {
    "id": "06a48771-c2b4-417d-8b7a-764158642e4c"
   },
   "outputs": [
    {
     "data": {
      "text/plain": [
       "((1157, 6), (571, 6))"
      ]
     },
     "execution_count": 14,
     "metadata": {},
     "output_type": "execute_result"
    }
   ],
   "source": [
    "# verificando o shape das amostras\n",
    "X_train.shape, X_test.shape"
   ]
  },
  {
   "cell_type": "markdown",
   "id": "458854d0-beba-4218-926e-490ae7666705",
   "metadata": {},
   "source": [
    "##### Feature Engineering\n",
    "###### Transformando os dados \"raw\" em features que trazem mais valor para nosso modelo"
   ]
  },
  {
   "cell_type": "code",
   "execution_count": 15,
   "id": "b5bf7a69-3fd4-4c2e-be8a-3373fc2cef80",
   "metadata": {
    "id": "074100a5-f24f-4e0a-b38c-3d5c05b2de2b"
   },
   "outputs": [
    {
     "data": {
      "text/plain": [
       "buying      object\n",
       "maint       object\n",
       "doors       object\n",
       "persons     object\n",
       "lug_boot    object\n",
       "safety      object\n",
       "dtype: object"
      ]
     },
     "execution_count": 15,
     "metadata": {},
     "output_type": "execute_result"
    }
   ],
   "source": [
    "# verificando o tipo dos dados\n",
    "\n",
    "X_train.dtypes"
   ]
  },
  {
   "cell_type": "code",
   "execution_count": 16,
   "id": "0584d96f-dff0-4468-911a-6c903e1f7ab4",
   "metadata": {
    "id": "4141ceca-8cfc-4e95-abbd-178dda36af31"
   },
   "outputs": [
    {
     "data": {
      "text/html": [
       "<div>\n",
       "<style scoped>\n",
       "    .dataframe tbody tr th:only-of-type {\n",
       "        vertical-align: middle;\n",
       "    }\n",
       "\n",
       "    .dataframe tbody tr th {\n",
       "        vertical-align: top;\n",
       "    }\n",
       "\n",
       "    .dataframe thead th {\n",
       "        text-align: right;\n",
       "    }\n",
       "</style>\n",
       "<table border=\"1\" class=\"dataframe\">\n",
       "  <thead>\n",
       "    <tr style=\"text-align: right;\">\n",
       "      <th></th>\n",
       "      <th>buying</th>\n",
       "      <th>maint</th>\n",
       "      <th>doors</th>\n",
       "      <th>persons</th>\n",
       "      <th>lug_boot</th>\n",
       "      <th>safety</th>\n",
       "    </tr>\n",
       "  </thead>\n",
       "  <tbody>\n",
       "    <tr>\n",
       "      <th>48</th>\n",
       "      <td>vhigh</td>\n",
       "      <td>vhigh</td>\n",
       "      <td>3</td>\n",
       "      <td>more</td>\n",
       "      <td>med</td>\n",
       "      <td>low</td>\n",
       "    </tr>\n",
       "    <tr>\n",
       "      <th>468</th>\n",
       "      <td>high</td>\n",
       "      <td>vhigh</td>\n",
       "      <td>3</td>\n",
       "      <td>4</td>\n",
       "      <td>small</td>\n",
       "      <td>low</td>\n",
       "    </tr>\n",
       "    <tr>\n",
       "      <th>155</th>\n",
       "      <td>vhigh</td>\n",
       "      <td>high</td>\n",
       "      <td>3</td>\n",
       "      <td>more</td>\n",
       "      <td>small</td>\n",
       "      <td>high</td>\n",
       "    </tr>\n",
       "    <tr>\n",
       "      <th>1721</th>\n",
       "      <td>low</td>\n",
       "      <td>low</td>\n",
       "      <td>5more</td>\n",
       "      <td>more</td>\n",
       "      <td>small</td>\n",
       "      <td>high</td>\n",
       "    </tr>\n",
       "    <tr>\n",
       "      <th>1208</th>\n",
       "      <td>med</td>\n",
       "      <td>low</td>\n",
       "      <td>2</td>\n",
       "      <td>more</td>\n",
       "      <td>small</td>\n",
       "      <td>high</td>\n",
       "    </tr>\n",
       "  </tbody>\n",
       "</table>\n",
       "</div>"
      ],
      "text/plain": [
       "     buying  maint  doors persons lug_boot safety\n",
       "48    vhigh  vhigh      3    more      med    low\n",
       "468    high  vhigh      3       4    small    low\n",
       "155   vhigh   high      3    more    small   high\n",
       "1721    low    low  5more    more    small   high\n",
       "1208    med    low      2    more    small   high"
      ]
     },
     "execution_count": 16,
     "metadata": {},
     "output_type": "execute_result"
    }
   ],
   "source": [
    "X_train.head()\n"
   ]
  },
  {
   "cell_type": "code",
   "execution_count": 17,
   "id": "4a738507-461a-4e5a-b356-3cd5820f1244",
   "metadata": {
    "id": "afd62799-4f4e-4ea2-a275-9c3b99f7e2e3"
   },
   "outputs": [],
   "source": [
    "# import category encoders\n",
    "\n",
    "import category_encoders as ce"
   ]
  },
  {
   "cell_type": "code",
   "execution_count": 18,
   "id": "d62f715d-140d-47a4-8563-361d529c2982",
   "metadata": {},
   "outputs": [],
   "source": [
    "from sklearn.model_selection import train_test_split\n"
   ]
  },
  {
   "cell_type": "code",
   "execution_count": 19,
   "id": "b1afcf4b-522c-4f30-995a-3dbee80c0ba6",
   "metadata": {},
   "outputs": [],
   "source": [
    "import sklearn as se"
   ]
  },
  {
   "cell_type": "code",
   "execution_count": 20,
   "id": "9db9c2fc-cd05-453b-9c64-2370875d176c",
   "metadata": {},
   "outputs": [
    {
     "name": "stdout",
     "output_type": "stream",
     "text": [
      "1.6.1\n"
     ]
    }
   ],
   "source": [
    "print(se.__version__)"
   ]
  },
  {
   "cell_type": "code",
   "execution_count": 21,
   "id": "e55a8e21-d374-47f8-b570-cd9455007c81",
   "metadata": {
    "id": "87c77f83-f2bd-41e0-bdb3-bbd01cacd09f"
   },
   "outputs": [],
   "source": [
    "# agora iremos traduzir variaveis categoricas em numéricas\n",
    "\n",
    "encoder = ce.OrdinalEncoder(cols=['buying', 'maint', 'doors', 'persons', 'lug_boot', 'safety'])\n",
    "\n",
    "\n",
    "X_train = encoder.fit_transform(X_train)\n",
    "\n",
    "X_test = encoder.transform(X_test)"
   ]
  },
  {
   "cell_type": "code",
   "execution_count": 22,
   "id": "1cf7313c-3c5c-4c3a-a1da-a83ca6bbb9b0",
   "metadata": {
    "id": "fe6d069a-1404-4984-b5cc-06546db70330"
   },
   "outputs": [
    {
     "data": {
      "text/html": [
       "<div>\n",
       "<style scoped>\n",
       "    .dataframe tbody tr th:only-of-type {\n",
       "        vertical-align: middle;\n",
       "    }\n",
       "\n",
       "    .dataframe tbody tr th {\n",
       "        vertical-align: top;\n",
       "    }\n",
       "\n",
       "    .dataframe thead th {\n",
       "        text-align: right;\n",
       "    }\n",
       "</style>\n",
       "<table border=\"1\" class=\"dataframe\">\n",
       "  <thead>\n",
       "    <tr style=\"text-align: right;\">\n",
       "      <th></th>\n",
       "      <th>buying</th>\n",
       "      <th>maint</th>\n",
       "      <th>doors</th>\n",
       "      <th>persons</th>\n",
       "      <th>lug_boot</th>\n",
       "      <th>safety</th>\n",
       "    </tr>\n",
       "  </thead>\n",
       "  <tbody>\n",
       "    <tr>\n",
       "      <th>48</th>\n",
       "      <td>1</td>\n",
       "      <td>1</td>\n",
       "      <td>1</td>\n",
       "      <td>1</td>\n",
       "      <td>1</td>\n",
       "      <td>1</td>\n",
       "    </tr>\n",
       "    <tr>\n",
       "      <th>468</th>\n",
       "      <td>2</td>\n",
       "      <td>1</td>\n",
       "      <td>1</td>\n",
       "      <td>2</td>\n",
       "      <td>2</td>\n",
       "      <td>1</td>\n",
       "    </tr>\n",
       "    <tr>\n",
       "      <th>155</th>\n",
       "      <td>1</td>\n",
       "      <td>2</td>\n",
       "      <td>1</td>\n",
       "      <td>1</td>\n",
       "      <td>2</td>\n",
       "      <td>2</td>\n",
       "    </tr>\n",
       "    <tr>\n",
       "      <th>1721</th>\n",
       "      <td>3</td>\n",
       "      <td>3</td>\n",
       "      <td>2</td>\n",
       "      <td>1</td>\n",
       "      <td>2</td>\n",
       "      <td>2</td>\n",
       "    </tr>\n",
       "    <tr>\n",
       "      <th>1208</th>\n",
       "      <td>4</td>\n",
       "      <td>3</td>\n",
       "      <td>3</td>\n",
       "      <td>1</td>\n",
       "      <td>2</td>\n",
       "      <td>2</td>\n",
       "    </tr>\n",
       "  </tbody>\n",
       "</table>\n",
       "</div>"
      ],
      "text/plain": [
       "      buying  maint  doors  persons  lug_boot  safety\n",
       "48         1      1      1        1         1       1\n",
       "468        2      1      1        2         2       1\n",
       "155        1      2      1        1         2       2\n",
       "1721       3      3      2        1         2       2\n",
       "1208       4      3      3        1         2       2"
      ]
     },
     "execution_count": 22,
     "metadata": {},
     "output_type": "execute_result"
    }
   ],
   "source": [
    "X_train.head()\n"
   ]
  },
  {
   "cell_type": "code",
   "execution_count": 23,
   "id": "a3665527-00c8-482b-9d65-c8522b142df6",
   "metadata": {
    "id": "46b1f832-1d3b-43b8-8943-2af0267a5c1c"
   },
   "outputs": [
    {
     "data": {
      "text/html": [
       "<div>\n",
       "<style scoped>\n",
       "    .dataframe tbody tr th:only-of-type {\n",
       "        vertical-align: middle;\n",
       "    }\n",
       "\n",
       "    .dataframe tbody tr th {\n",
       "        vertical-align: top;\n",
       "    }\n",
       "\n",
       "    .dataframe thead th {\n",
       "        text-align: right;\n",
       "    }\n",
       "</style>\n",
       "<table border=\"1\" class=\"dataframe\">\n",
       "  <thead>\n",
       "    <tr style=\"text-align: right;\">\n",
       "      <th></th>\n",
       "      <th>buying</th>\n",
       "      <th>maint</th>\n",
       "      <th>doors</th>\n",
       "      <th>persons</th>\n",
       "      <th>lug_boot</th>\n",
       "      <th>safety</th>\n",
       "    </tr>\n",
       "  </thead>\n",
       "  <tbody>\n",
       "    <tr>\n",
       "      <th>599</th>\n",
       "      <td>2</td>\n",
       "      <td>2</td>\n",
       "      <td>4</td>\n",
       "      <td>3</td>\n",
       "      <td>1</td>\n",
       "      <td>2</td>\n",
       "    </tr>\n",
       "    <tr>\n",
       "      <th>1201</th>\n",
       "      <td>4</td>\n",
       "      <td>3</td>\n",
       "      <td>3</td>\n",
       "      <td>2</td>\n",
       "      <td>1</td>\n",
       "      <td>3</td>\n",
       "    </tr>\n",
       "    <tr>\n",
       "      <th>628</th>\n",
       "      <td>2</td>\n",
       "      <td>2</td>\n",
       "      <td>2</td>\n",
       "      <td>3</td>\n",
       "      <td>3</td>\n",
       "      <td>3</td>\n",
       "    </tr>\n",
       "    <tr>\n",
       "      <th>1498</th>\n",
       "      <td>3</td>\n",
       "      <td>2</td>\n",
       "      <td>2</td>\n",
       "      <td>2</td>\n",
       "      <td>1</td>\n",
       "      <td>3</td>\n",
       "    </tr>\n",
       "    <tr>\n",
       "      <th>1263</th>\n",
       "      <td>4</td>\n",
       "      <td>3</td>\n",
       "      <td>4</td>\n",
       "      <td>1</td>\n",
       "      <td>1</td>\n",
       "      <td>1</td>\n",
       "    </tr>\n",
       "  </tbody>\n",
       "</table>\n",
       "</div>"
      ],
      "text/plain": [
       "      buying  maint  doors  persons  lug_boot  safety\n",
       "599        2      2      4        3         1       2\n",
       "1201       4      3      3        2         1       3\n",
       "628        2      2      2        3         3       3\n",
       "1498       3      2      2        2         1       3\n",
       "1263       4      3      4        1         1       1"
      ]
     },
     "execution_count": 23,
     "metadata": {},
     "output_type": "execute_result"
    }
   ],
   "source": [
    "X_test.head()\n"
   ]
  },
  {
   "cell_type": "markdown",
   "id": "ad92026c-d235-4af1-8827-8f132cd2a13f",
   "metadata": {},
   "source": [
    "##### Classificador de Random Forest com parametros Default\n"
   ]
  },
  {
   "cell_type": "code",
   "execution_count": 24,
   "id": "a1289f3e-cfe9-4869-beb9-df75d4f7096c",
   "metadata": {
    "id": "93efe454-0577-4771-9ab0-a66cd9d294cf"
   },
   "outputs": [
    {
     "name": "stdout",
     "output_type": "stream",
     "text": [
      "Model accuracy score with 10 decision-trees : 0.9457\n"
     ]
    }
   ],
   "source": [
    "# import Random Forest classifier\n",
    "\n",
    "from sklearn.ensemble import RandomForestClassifier\n",
    "\n",
    "\n",
    "\n",
    "# Instanciando o classificador\n",
    "\n",
    "rfc = RandomForestClassifier(random_state=0)\n",
    "\n",
    "\n",
    "\n",
    "# Aplicando o classificador para os dados de treino\n",
    "\n",
    "rfc.fit(X_train, y_train)\n",
    "\n",
    "\n",
    "\n",
    "# Verificando o treinamento com os dados de teste\n",
    "\n",
    "y_pred = rfc.predict(X_test)\n",
    "\n",
    "\n",
    "\n",
    "# Aqui verificamos a acuracia do nosso modelo\n",
    "\n",
    "from sklearn.metrics import accuracy_score\n",
    "\n",
    "print('Model accuracy score with 10 decision-trees : {0:0.4f}'. format(accuracy_score(y_test, y_pred)))"
   ]
  },
  {
   "cell_type": "markdown",
   "id": "af02e270-1e8c-4e3b-b529-f19d18472cde",
   "metadata": {},
   "source": [
    "###### Encontrando a importancia de cada feature"
   ]
  },
  {
   "cell_type": "code",
   "execution_count": 25,
   "id": "d9526ae8-8f50-4c70-93d6-ff819078cf96",
   "metadata": {
    "id": "93478c9e-ae87-44ee-888a-c10d3ab1591f"
   },
   "outputs": [
    {
     "data": {
      "text/html": [
       "<style>#sk-container-id-1 {\n",
       "  /* Definition of color scheme common for light and dark mode */\n",
       "  --sklearn-color-text: #000;\n",
       "  --sklearn-color-text-muted: #666;\n",
       "  --sklearn-color-line: gray;\n",
       "  /* Definition of color scheme for unfitted estimators */\n",
       "  --sklearn-color-unfitted-level-0: #fff5e6;\n",
       "  --sklearn-color-unfitted-level-1: #f6e4d2;\n",
       "  --sklearn-color-unfitted-level-2: #ffe0b3;\n",
       "  --sklearn-color-unfitted-level-3: chocolate;\n",
       "  /* Definition of color scheme for fitted estimators */\n",
       "  --sklearn-color-fitted-level-0: #f0f8ff;\n",
       "  --sklearn-color-fitted-level-1: #d4ebff;\n",
       "  --sklearn-color-fitted-level-2: #b3dbfd;\n",
       "  --sklearn-color-fitted-level-3: cornflowerblue;\n",
       "\n",
       "  /* Specific color for light theme */\n",
       "  --sklearn-color-text-on-default-background: var(--sg-text-color, var(--theme-code-foreground, var(--jp-content-font-color1, black)));\n",
       "  --sklearn-color-background: var(--sg-background-color, var(--theme-background, var(--jp-layout-color0, white)));\n",
       "  --sklearn-color-border-box: var(--sg-text-color, var(--theme-code-foreground, var(--jp-content-font-color1, black)));\n",
       "  --sklearn-color-icon: #696969;\n",
       "\n",
       "  @media (prefers-color-scheme: dark) {\n",
       "    /* Redefinition of color scheme for dark theme */\n",
       "    --sklearn-color-text-on-default-background: var(--sg-text-color, var(--theme-code-foreground, var(--jp-content-font-color1, white)));\n",
       "    --sklearn-color-background: var(--sg-background-color, var(--theme-background, var(--jp-layout-color0, #111)));\n",
       "    --sklearn-color-border-box: var(--sg-text-color, var(--theme-code-foreground, var(--jp-content-font-color1, white)));\n",
       "    --sklearn-color-icon: #878787;\n",
       "  }\n",
       "}\n",
       "\n",
       "#sk-container-id-1 {\n",
       "  color: var(--sklearn-color-text);\n",
       "}\n",
       "\n",
       "#sk-container-id-1 pre {\n",
       "  padding: 0;\n",
       "}\n",
       "\n",
       "#sk-container-id-1 input.sk-hidden--visually {\n",
       "  border: 0;\n",
       "  clip: rect(1px 1px 1px 1px);\n",
       "  clip: rect(1px, 1px, 1px, 1px);\n",
       "  height: 1px;\n",
       "  margin: -1px;\n",
       "  overflow: hidden;\n",
       "  padding: 0;\n",
       "  position: absolute;\n",
       "  width: 1px;\n",
       "}\n",
       "\n",
       "#sk-container-id-1 div.sk-dashed-wrapped {\n",
       "  border: 1px dashed var(--sklearn-color-line);\n",
       "  margin: 0 0.4em 0.5em 0.4em;\n",
       "  box-sizing: border-box;\n",
       "  padding-bottom: 0.4em;\n",
       "  background-color: var(--sklearn-color-background);\n",
       "}\n",
       "\n",
       "#sk-container-id-1 div.sk-container {\n",
       "  /* jupyter's `normalize.less` sets `[hidden] { display: none; }`\n",
       "     but bootstrap.min.css set `[hidden] { display: none !important; }`\n",
       "     so we also need the `!important` here to be able to override the\n",
       "     default hidden behavior on the sphinx rendered scikit-learn.org.\n",
       "     See: https://github.com/scikit-learn/scikit-learn/issues/21755 */\n",
       "  display: inline-block !important;\n",
       "  position: relative;\n",
       "}\n",
       "\n",
       "#sk-container-id-1 div.sk-text-repr-fallback {\n",
       "  display: none;\n",
       "}\n",
       "\n",
       "div.sk-parallel-item,\n",
       "div.sk-serial,\n",
       "div.sk-item {\n",
       "  /* draw centered vertical line to link estimators */\n",
       "  background-image: linear-gradient(var(--sklearn-color-text-on-default-background), var(--sklearn-color-text-on-default-background));\n",
       "  background-size: 2px 100%;\n",
       "  background-repeat: no-repeat;\n",
       "  background-position: center center;\n",
       "}\n",
       "\n",
       "/* Parallel-specific style estimator block */\n",
       "\n",
       "#sk-container-id-1 div.sk-parallel-item::after {\n",
       "  content: \"\";\n",
       "  width: 100%;\n",
       "  border-bottom: 2px solid var(--sklearn-color-text-on-default-background);\n",
       "  flex-grow: 1;\n",
       "}\n",
       "\n",
       "#sk-container-id-1 div.sk-parallel {\n",
       "  display: flex;\n",
       "  align-items: stretch;\n",
       "  justify-content: center;\n",
       "  background-color: var(--sklearn-color-background);\n",
       "  position: relative;\n",
       "}\n",
       "\n",
       "#sk-container-id-1 div.sk-parallel-item {\n",
       "  display: flex;\n",
       "  flex-direction: column;\n",
       "}\n",
       "\n",
       "#sk-container-id-1 div.sk-parallel-item:first-child::after {\n",
       "  align-self: flex-end;\n",
       "  width: 50%;\n",
       "}\n",
       "\n",
       "#sk-container-id-1 div.sk-parallel-item:last-child::after {\n",
       "  align-self: flex-start;\n",
       "  width: 50%;\n",
       "}\n",
       "\n",
       "#sk-container-id-1 div.sk-parallel-item:only-child::after {\n",
       "  width: 0;\n",
       "}\n",
       "\n",
       "/* Serial-specific style estimator block */\n",
       "\n",
       "#sk-container-id-1 div.sk-serial {\n",
       "  display: flex;\n",
       "  flex-direction: column;\n",
       "  align-items: center;\n",
       "  background-color: var(--sklearn-color-background);\n",
       "  padding-right: 1em;\n",
       "  padding-left: 1em;\n",
       "}\n",
       "\n",
       "\n",
       "/* Toggleable style: style used for estimator/Pipeline/ColumnTransformer box that is\n",
       "clickable and can be expanded/collapsed.\n",
       "- Pipeline and ColumnTransformer use this feature and define the default style\n",
       "- Estimators will overwrite some part of the style using the `sk-estimator` class\n",
       "*/\n",
       "\n",
       "/* Pipeline and ColumnTransformer style (default) */\n",
       "\n",
       "#sk-container-id-1 div.sk-toggleable {\n",
       "  /* Default theme specific background. It is overwritten whether we have a\n",
       "  specific estimator or a Pipeline/ColumnTransformer */\n",
       "  background-color: var(--sklearn-color-background);\n",
       "}\n",
       "\n",
       "/* Toggleable label */\n",
       "#sk-container-id-1 label.sk-toggleable__label {\n",
       "  cursor: pointer;\n",
       "  display: flex;\n",
       "  width: 100%;\n",
       "  margin-bottom: 0;\n",
       "  padding: 0.5em;\n",
       "  box-sizing: border-box;\n",
       "  text-align: center;\n",
       "  align-items: start;\n",
       "  justify-content: space-between;\n",
       "  gap: 0.5em;\n",
       "}\n",
       "\n",
       "#sk-container-id-1 label.sk-toggleable__label .caption {\n",
       "  font-size: 0.6rem;\n",
       "  font-weight: lighter;\n",
       "  color: var(--sklearn-color-text-muted);\n",
       "}\n",
       "\n",
       "#sk-container-id-1 label.sk-toggleable__label-arrow:before {\n",
       "  /* Arrow on the left of the label */\n",
       "  content: \"▸\";\n",
       "  float: left;\n",
       "  margin-right: 0.25em;\n",
       "  color: var(--sklearn-color-icon);\n",
       "}\n",
       "\n",
       "#sk-container-id-1 label.sk-toggleable__label-arrow:hover:before {\n",
       "  color: var(--sklearn-color-text);\n",
       "}\n",
       "\n",
       "/* Toggleable content - dropdown */\n",
       "\n",
       "#sk-container-id-1 div.sk-toggleable__content {\n",
       "  max-height: 0;\n",
       "  max-width: 0;\n",
       "  overflow: hidden;\n",
       "  text-align: left;\n",
       "  /* unfitted */\n",
       "  background-color: var(--sklearn-color-unfitted-level-0);\n",
       "}\n",
       "\n",
       "#sk-container-id-1 div.sk-toggleable__content.fitted {\n",
       "  /* fitted */\n",
       "  background-color: var(--sklearn-color-fitted-level-0);\n",
       "}\n",
       "\n",
       "#sk-container-id-1 div.sk-toggleable__content pre {\n",
       "  margin: 0.2em;\n",
       "  border-radius: 0.25em;\n",
       "  color: var(--sklearn-color-text);\n",
       "  /* unfitted */\n",
       "  background-color: var(--sklearn-color-unfitted-level-0);\n",
       "}\n",
       "\n",
       "#sk-container-id-1 div.sk-toggleable__content.fitted pre {\n",
       "  /* unfitted */\n",
       "  background-color: var(--sklearn-color-fitted-level-0);\n",
       "}\n",
       "\n",
       "#sk-container-id-1 input.sk-toggleable__control:checked~div.sk-toggleable__content {\n",
       "  /* Expand drop-down */\n",
       "  max-height: 200px;\n",
       "  max-width: 100%;\n",
       "  overflow: auto;\n",
       "}\n",
       "\n",
       "#sk-container-id-1 input.sk-toggleable__control:checked~label.sk-toggleable__label-arrow:before {\n",
       "  content: \"▾\";\n",
       "}\n",
       "\n",
       "/* Pipeline/ColumnTransformer-specific style */\n",
       "\n",
       "#sk-container-id-1 div.sk-label input.sk-toggleable__control:checked~label.sk-toggleable__label {\n",
       "  color: var(--sklearn-color-text);\n",
       "  background-color: var(--sklearn-color-unfitted-level-2);\n",
       "}\n",
       "\n",
       "#sk-container-id-1 div.sk-label.fitted input.sk-toggleable__control:checked~label.sk-toggleable__label {\n",
       "  background-color: var(--sklearn-color-fitted-level-2);\n",
       "}\n",
       "\n",
       "/* Estimator-specific style */\n",
       "\n",
       "/* Colorize estimator box */\n",
       "#sk-container-id-1 div.sk-estimator input.sk-toggleable__control:checked~label.sk-toggleable__label {\n",
       "  /* unfitted */\n",
       "  background-color: var(--sklearn-color-unfitted-level-2);\n",
       "}\n",
       "\n",
       "#sk-container-id-1 div.sk-estimator.fitted input.sk-toggleable__control:checked~label.sk-toggleable__label {\n",
       "  /* fitted */\n",
       "  background-color: var(--sklearn-color-fitted-level-2);\n",
       "}\n",
       "\n",
       "#sk-container-id-1 div.sk-label label.sk-toggleable__label,\n",
       "#sk-container-id-1 div.sk-label label {\n",
       "  /* The background is the default theme color */\n",
       "  color: var(--sklearn-color-text-on-default-background);\n",
       "}\n",
       "\n",
       "/* On hover, darken the color of the background */\n",
       "#sk-container-id-1 div.sk-label:hover label.sk-toggleable__label {\n",
       "  color: var(--sklearn-color-text);\n",
       "  background-color: var(--sklearn-color-unfitted-level-2);\n",
       "}\n",
       "\n",
       "/* Label box, darken color on hover, fitted */\n",
       "#sk-container-id-1 div.sk-label.fitted:hover label.sk-toggleable__label.fitted {\n",
       "  color: var(--sklearn-color-text);\n",
       "  background-color: var(--sklearn-color-fitted-level-2);\n",
       "}\n",
       "\n",
       "/* Estimator label */\n",
       "\n",
       "#sk-container-id-1 div.sk-label label {\n",
       "  font-family: monospace;\n",
       "  font-weight: bold;\n",
       "  display: inline-block;\n",
       "  line-height: 1.2em;\n",
       "}\n",
       "\n",
       "#sk-container-id-1 div.sk-label-container {\n",
       "  text-align: center;\n",
       "}\n",
       "\n",
       "/* Estimator-specific */\n",
       "#sk-container-id-1 div.sk-estimator {\n",
       "  font-family: monospace;\n",
       "  border: 1px dotted var(--sklearn-color-border-box);\n",
       "  border-radius: 0.25em;\n",
       "  box-sizing: border-box;\n",
       "  margin-bottom: 0.5em;\n",
       "  /* unfitted */\n",
       "  background-color: var(--sklearn-color-unfitted-level-0);\n",
       "}\n",
       "\n",
       "#sk-container-id-1 div.sk-estimator.fitted {\n",
       "  /* fitted */\n",
       "  background-color: var(--sklearn-color-fitted-level-0);\n",
       "}\n",
       "\n",
       "/* on hover */\n",
       "#sk-container-id-1 div.sk-estimator:hover {\n",
       "  /* unfitted */\n",
       "  background-color: var(--sklearn-color-unfitted-level-2);\n",
       "}\n",
       "\n",
       "#sk-container-id-1 div.sk-estimator.fitted:hover {\n",
       "  /* fitted */\n",
       "  background-color: var(--sklearn-color-fitted-level-2);\n",
       "}\n",
       "\n",
       "/* Specification for estimator info (e.g. \"i\" and \"?\") */\n",
       "\n",
       "/* Common style for \"i\" and \"?\" */\n",
       "\n",
       ".sk-estimator-doc-link,\n",
       "a:link.sk-estimator-doc-link,\n",
       "a:visited.sk-estimator-doc-link {\n",
       "  float: right;\n",
       "  font-size: smaller;\n",
       "  line-height: 1em;\n",
       "  font-family: monospace;\n",
       "  background-color: var(--sklearn-color-background);\n",
       "  border-radius: 1em;\n",
       "  height: 1em;\n",
       "  width: 1em;\n",
       "  text-decoration: none !important;\n",
       "  margin-left: 0.5em;\n",
       "  text-align: center;\n",
       "  /* unfitted */\n",
       "  border: var(--sklearn-color-unfitted-level-1) 1pt solid;\n",
       "  color: var(--sklearn-color-unfitted-level-1);\n",
       "}\n",
       "\n",
       ".sk-estimator-doc-link.fitted,\n",
       "a:link.sk-estimator-doc-link.fitted,\n",
       "a:visited.sk-estimator-doc-link.fitted {\n",
       "  /* fitted */\n",
       "  border: var(--sklearn-color-fitted-level-1) 1pt solid;\n",
       "  color: var(--sklearn-color-fitted-level-1);\n",
       "}\n",
       "\n",
       "/* On hover */\n",
       "div.sk-estimator:hover .sk-estimator-doc-link:hover,\n",
       ".sk-estimator-doc-link:hover,\n",
       "div.sk-label-container:hover .sk-estimator-doc-link:hover,\n",
       ".sk-estimator-doc-link:hover {\n",
       "  /* unfitted */\n",
       "  background-color: var(--sklearn-color-unfitted-level-3);\n",
       "  color: var(--sklearn-color-background);\n",
       "  text-decoration: none;\n",
       "}\n",
       "\n",
       "div.sk-estimator.fitted:hover .sk-estimator-doc-link.fitted:hover,\n",
       ".sk-estimator-doc-link.fitted:hover,\n",
       "div.sk-label-container:hover .sk-estimator-doc-link.fitted:hover,\n",
       ".sk-estimator-doc-link.fitted:hover {\n",
       "  /* fitted */\n",
       "  background-color: var(--sklearn-color-fitted-level-3);\n",
       "  color: var(--sklearn-color-background);\n",
       "  text-decoration: none;\n",
       "}\n",
       "\n",
       "/* Span, style for the box shown on hovering the info icon */\n",
       ".sk-estimator-doc-link span {\n",
       "  display: none;\n",
       "  z-index: 9999;\n",
       "  position: relative;\n",
       "  font-weight: normal;\n",
       "  right: .2ex;\n",
       "  padding: .5ex;\n",
       "  margin: .5ex;\n",
       "  width: min-content;\n",
       "  min-width: 20ex;\n",
       "  max-width: 50ex;\n",
       "  color: var(--sklearn-color-text);\n",
       "  box-shadow: 2pt 2pt 4pt #999;\n",
       "  /* unfitted */\n",
       "  background: var(--sklearn-color-unfitted-level-0);\n",
       "  border: .5pt solid var(--sklearn-color-unfitted-level-3);\n",
       "}\n",
       "\n",
       ".sk-estimator-doc-link.fitted span {\n",
       "  /* fitted */\n",
       "  background: var(--sklearn-color-fitted-level-0);\n",
       "  border: var(--sklearn-color-fitted-level-3);\n",
       "}\n",
       "\n",
       ".sk-estimator-doc-link:hover span {\n",
       "  display: block;\n",
       "}\n",
       "\n",
       "/* \"?\"-specific style due to the `<a>` HTML tag */\n",
       "\n",
       "#sk-container-id-1 a.estimator_doc_link {\n",
       "  float: right;\n",
       "  font-size: 1rem;\n",
       "  line-height: 1em;\n",
       "  font-family: monospace;\n",
       "  background-color: var(--sklearn-color-background);\n",
       "  border-radius: 1rem;\n",
       "  height: 1rem;\n",
       "  width: 1rem;\n",
       "  text-decoration: none;\n",
       "  /* unfitted */\n",
       "  color: var(--sklearn-color-unfitted-level-1);\n",
       "  border: var(--sklearn-color-unfitted-level-1) 1pt solid;\n",
       "}\n",
       "\n",
       "#sk-container-id-1 a.estimator_doc_link.fitted {\n",
       "  /* fitted */\n",
       "  border: var(--sklearn-color-fitted-level-1) 1pt solid;\n",
       "  color: var(--sklearn-color-fitted-level-1);\n",
       "}\n",
       "\n",
       "/* On hover */\n",
       "#sk-container-id-1 a.estimator_doc_link:hover {\n",
       "  /* unfitted */\n",
       "  background-color: var(--sklearn-color-unfitted-level-3);\n",
       "  color: var(--sklearn-color-background);\n",
       "  text-decoration: none;\n",
       "}\n",
       "\n",
       "#sk-container-id-1 a.estimator_doc_link.fitted:hover {\n",
       "  /* fitted */\n",
       "  background-color: var(--sklearn-color-fitted-level-3);\n",
       "}\n",
       "</style><div id=\"sk-container-id-1\" class=\"sk-top-container\"><div class=\"sk-text-repr-fallback\"><pre>RandomForestClassifier(random_state=0)</pre><b>In a Jupyter environment, please rerun this cell to show the HTML representation or trust the notebook. <br />On GitHub, the HTML representation is unable to render, please try loading this page with nbviewer.org.</b></div><div class=\"sk-container\" hidden><div class=\"sk-item\"><div class=\"sk-estimator fitted sk-toggleable\"><input class=\"sk-toggleable__control sk-hidden--visually\" id=\"sk-estimator-id-1\" type=\"checkbox\" checked><label for=\"sk-estimator-id-1\" class=\"sk-toggleable__label fitted sk-toggleable__label-arrow\"><div><div>RandomForestClassifier</div></div><div><a class=\"sk-estimator-doc-link fitted\" rel=\"noreferrer\" target=\"_blank\" href=\"https://scikit-learn.org/1.6/modules/generated/sklearn.ensemble.RandomForestClassifier.html\">?<span>Documentation for RandomForestClassifier</span></a><span class=\"sk-estimator-doc-link fitted\">i<span>Fitted</span></span></div></label><div class=\"sk-toggleable__content fitted\"><pre>RandomForestClassifier(random_state=0)</pre></div> </div></div></div></div>"
      ],
      "text/plain": [
       "RandomForestClassifier(random_state=0)"
      ]
     },
     "execution_count": 25,
     "metadata": {},
     "output_type": "execute_result"
    }
   ],
   "source": [
    "# create the classifier with n_estimators = 100\n",
    "\n",
    "clf = RandomForestClassifier(n_estimators=100, random_state=0)\n",
    "\n",
    "\n",
    "\n",
    "# fit the model to the training set\n",
    "\n",
    "clf.fit(X_train, y_train)"
   ]
  },
  {
   "cell_type": "code",
   "execution_count": 26,
   "id": "96171b68-d197-4425-84c5-2f637e42dd27",
   "metadata": {
    "id": "6eb58626-f4a1-4442-8637-5f30ab6b10ad"
   },
   "outputs": [
    {
     "data": {
      "text/plain": [
       "safety      0.295319\n",
       "persons     0.233856\n",
       "buying      0.151734\n",
       "maint       0.146653\n",
       "lug_boot    0.100048\n",
       "doors       0.072389\n",
       "dtype: float64"
      ]
     },
     "execution_count": 26,
     "metadata": {},
     "output_type": "execute_result"
    }
   ],
   "source": [
    "# Verificando a pontuação de cada feature\n",
    "\n",
    "feature_scores = pd.Series(clf.feature_importances_, index=X_train.columns).sort_values(ascending=False)\n",
    "\n",
    "feature_scores"
   ]
  },
  {
   "cell_type": "code",
   "execution_count": 27,
   "id": "dc9d69b0-6df7-4023-b355-2d44cf921558",
   "metadata": {
    "id": "5b318fa9-ad2e-469f-a6c3-14a7d21f62bf"
   },
   "outputs": [
    {
     "data": {
      "image/png": "[encoded data removed]",
      "text/plain": [
       "<Figure size 640x480 with 1 Axes>"
      ]
     },
     "metadata": {},
     "output_type": "display_data"
    }
   ],
   "source": [
    "# Criando um grafico de barras seaborn\n",
    "\n",
    "sns.barplot(x=feature_scores, y=feature_scores.index)\n",
    "\n",
    "\n",
    "\n",
    "\n",
    "\n",
    "plt.xlabel('Feature Importance Score')\n",
    "\n",
    "plt.ylabel('Features')\n",
    "\n",
    "\n",
    "\n",
    "\n",
    "\n",
    "plt.title(\"Visualizing Important Features\")\n",
    "\n",
    "\n",
    "\n",
    "\n",
    "plt.show()"
   ]
  },
  {
   "cell_type": "markdown",
   "id": "8136cc54-73c1-4d9f-b2f7-364094762499",
   "metadata": {},
   "source": [
    "##### Matriz de Confusão    "
   ]
  },
  {
   "cell_type": "code",
   "execution_count": 28,
   "id": "0ccc5328-26fc-499f-aa7b-212f1853bc9f",
   "metadata": {
    "id": "37f15a0d-e64a-40d6-921b-85b7431f32d9"
   },
   "outputs": [
    {
     "name": "stdout",
     "output_type": "stream",
     "text": [
      "Confusion matrix\n",
      "\n",
      " [[114   9   4   2]\n",
      " [  2  17   0   1]\n",
      " [  8   0 389   0]\n",
      " [  3   2   0  20]]\n"
     ]
    }
   ],
   "source": [
    "# Agora vamos verificar a matriz de confusão\n",
    "\n",
    "from sklearn.metrics import confusion_matrix\n",
    "\n",
    "cm = confusion_matrix(y_test, y_pred)\n",
    "\n",
    "print('Confusion matrix\\n\\n', cm)"
   ]
  },
  {
   "cell_type": "markdown",
   "id": "ceacc2e5-7262-4d8b-aa70-a0031f2bc53f",
   "metadata": {},
   "source": [
    "##### Classification Report"
   ]
  },
  {
   "cell_type": "code",
   "execution_count": 29,
   "id": "259f7c47-000c-461a-bab3-ca79d3c64446",
   "metadata": {
    "id": "98a8557d-e7af-4fa4-bf9d-ef355576a694"
   },
   "outputs": [
    {
     "name": "stdout",
     "output_type": "stream",
     "text": [
      "              precision    recall  f1-score   support\n",
      "\n",
      "         acc       0.90      0.88      0.89       129\n",
      "        good       0.61      0.85      0.71        20\n",
      "       unacc       0.99      0.98      0.98       397\n",
      "       vgood       0.87      0.80      0.83        25\n",
      "\n",
      "    accuracy                           0.95       571\n",
      "   macro avg       0.84      0.88      0.85       571\n",
      "weighted avg       0.95      0.95      0.95       571\n",
      "\n"
     ]
    }
   ],
   "source": [
    "from sklearn.metrics import classification_report\n",
    "\n",
    "print(classification_report(y_test, y_pred))"
   ]
  },
  {
   "cell_type": "markdown",
   "id": "ebf2c6d5-ccc9-4949-b3d2-511b6c2d94df",
   "metadata": {},
   "source": [
    "###### Agora vamos fazer o deploy na IBM Cloud atraves do Watsonx Ai"
   ]
  },
  {
   "cell_type": "code",
   "execution_count": 30,
   "id": "e409eec3-6893-4cfc-8026-291eab752cdc",
   "metadata": {
    "id": "0e7636fb-cfc1-44ba-a499-b0c53795f21a"
   },
   "outputs": [
    {
     "name": "stdout",
     "output_type": "stream",
     "text": [
      "Requirement already satisfied: ibm-watsonx-ai in c:\\users\\joaojardim\\appdata\\local\\programs\\python\\python312\\lib\\site-packages (1.3.34)\n",
      "Requirement already satisfied: requests in c:\\users\\joaojardim\\appdata\\local\\programs\\python\\python312\\lib\\site-packages (from ibm-watsonx-ai) (2.32.5)\n",
      "Requirement already satisfied: httpx<0.29,>=0.27 in c:\\users\\joaojardim\\appdata\\local\\programs\\python\\python312\\lib\\site-packages (from ibm-watsonx-ai) (0.28.1)\n",
      "Requirement already satisfied: urllib3 in c:\\users\\joaojardim\\appdata\\local\\programs\\python\\python312\\lib\\site-packages (from ibm-watsonx-ai) (2.5.0)\n",
      "Requirement already satisfied: pandas<2.3.0,>=0.24.2 in c:\\users\\joaojardim\\appdata\\local\\programs\\python\\python312\\lib\\site-packages (from ibm-watsonx-ai) (2.2.3)\n",
      "Requirement already satisfied: certifi in c:\\users\\joaojardim\\appdata\\local\\programs\\python\\python312\\lib\\site-packages (from ibm-watsonx-ai) (2025.6.15)\n",
      "Requirement already satisfied: lomond in c:\\users\\joaojardim\\appdata\\local\\programs\\python\\python312\\lib\\site-packages (from ibm-watsonx-ai) (0.3.3)\n",
      "Requirement already satisfied: tabulate in c:\\users\\joaojardim\\appdata\\local\\programs\\python\\python312\\lib\\site-packages (from ibm-watsonx-ai) (0.9.0)\n",
      "Requirement already satisfied: packaging in c:\\users\\joaojardim\\appdata\\local\\programs\\python\\python312\\lib\\site-packages (from ibm-watsonx-ai) (24.2)\n",
      "Requirement already satisfied: ibm-cos-sdk<2.15.0,>=2.12.0 in c:\\users\\joaojardim\\appdata\\local\\programs\\python\\python312\\lib\\site-packages (from ibm-watsonx-ai) (2.13.6)\n",
      "Requirement already satisfied: cachetools in c:\\users\\joaojardim\\appdata\\local\\programs\\python\\python312\\lib\\site-packages (from ibm-watsonx-ai) (5.5.2)\n",
      "Requirement already satisfied: anyio in c:\\users\\joaojardim\\appdata\\local\\programs\\python\\python312\\lib\\site-packages (from httpx<0.29,>=0.27->ibm-watsonx-ai) (4.4.0)\n",
      "Requirement already satisfied: httpcore==1.* in c:\\users\\joaojardim\\appdata\\local\\programs\\python\\python312\\lib\\site-packages (from httpx<0.29,>=0.27->ibm-watsonx-ai) (1.0.5)\n",
      "Requirement already satisfied: idna in c:\\users\\joaojardim\\appdata\\local\\programs\\python\\python312\\lib\\site-packages (from httpx<0.29,>=0.27->ibm-watsonx-ai) (3.10)\n",
      "Requirement already satisfied: h11<0.15,>=0.13 in c:\\users\\joaojardim\\appdata\\local\\programs\\python\\python312\\lib\\site-packages (from httpcore==1.*->httpx<0.29,>=0.27->ibm-watsonx-ai) (0.14.0)\n",
      "Requirement already satisfied: ibm-cos-sdk-core==2.13.6 in c:\\users\\joaojardim\\appdata\\local\\programs\\python\\python312\\lib\\site-packages (from ibm-cos-sdk<2.15.0,>=2.12.0->ibm-watsonx-ai) (2.13.6)\n",
      "Requirement already satisfied: ibm-cos-sdk-s3transfer==2.13.6 in c:\\users\\joaojardim\\appdata\\local\\programs\\python\\python312\\lib\\site-packages (from ibm-cos-sdk<2.15.0,>=2.12.0->ibm-watsonx-ai) (2.13.6)\n",
      "Requirement already satisfied: jmespath<=1.0.1,>=0.10.0 in c:\\users\\joaojardim\\appdata\\local\\programs\\python\\python312\\lib\\site-packages (from ibm-cos-sdk<2.15.0,>=2.12.0->ibm-watsonx-ai) (1.0.1)\n",
      "Requirement already satisfied: python-dateutil<3.0.0,>=2.9.0 in c:\\users\\joaojardim\\appdata\\local\\programs\\python\\python312\\lib\\site-packages (from ibm-cos-sdk-core==2.13.6->ibm-cos-sdk<2.15.0,>=2.12.0->ibm-watsonx-ai) (2.9.0.post0)\n",
      "Collecting requests (from ibm-watsonx-ai)\n",
      "  Using cached requests-2.32.2-py3-none-any.whl.metadata (4.6 kB)\n",
      "Requirement already satisfied: numpy>=1.26.0 in c:\\users\\joaojardim\\appdata\\local\\programs\\python\\python312\\lib\\site-packages (from pandas<2.3.0,>=0.24.2->ibm-watsonx-ai) (2.0.2)\n",
      "Requirement already satisfied: pytz>=2020.1 in c:\\users\\joaojardim\\appdata\\local\\programs\\python\\python312\\lib\\site-packages (from pandas<2.3.0,>=0.24.2->ibm-watsonx-ai) (2025.2)\n",
      "Requirement already satisfied: tzdata>=2022.7 in c:\\users\\joaojardim\\appdata\\local\\programs\\python\\python312\\lib\\site-packages (from pandas<2.3.0,>=0.24.2->ibm-watsonx-ai) (2025.1)\n",
      "Requirement already satisfied: charset-normalizer<4,>=2 in c:\\users\\joaojardim\\appdata\\local\\programs\\python\\python312\\lib\\site-packages (from requests->ibm-watsonx-ai) (3.3.2)\n",
      "Requirement already satisfied: six>=1.10.0 in c:\\users\\joaojardim\\appdata\\local\\programs\\python\\python312\\lib\\site-packages (from lomond->ibm-watsonx-ai) (1.16.0)\n",
      "Requirement already satisfied: sniffio>=1.1 in c:\\users\\joaojardim\\appdata\\local\\programs\\python\\python312\\lib\\site-packages (from anyio->httpx<0.29,>=0.27->ibm-watsonx-ai) (1.3.1)\n",
      "Using cached requests-2.32.2-py3-none-any.whl (63 kB)\n",
      "Installing collected packages: requests\n",
      "  Attempting uninstall: requests\n",
      "    Found existing installation: requests 2.32.5\n",
      "    Uninstalling requests-2.32.5:\n",
      "      Successfully uninstalled requests-2.32.5\n",
      "Successfully installed requests-2.32.2\n"
     ]
    },
    {
     "name": "stderr",
     "output_type": "stream",
     "text": [
      "ERROR: pip's dependency resolver does not currently take into account all the packages that are installed. This behaviour is the source of the following dependency conflicts.\n",
      "auth0-python 4.9.0 requires requests>=2.32.3, but you have requests 2.32.2 which is incompatible.\n",
      "ibm-cloud-sdk-core 3.24.2 requires requests<3.0.0,>=2.32.4, but you have requests 2.32.2 which is incompatible.\n",
      "ibm-watson-machine-learning 1.0.367 requires pandas<2.2.0,>=0.24.2, but you have pandas 2.2.3 which is incompatible.\n",
      "instructor 1.7.8 requires requests<3.0.0,>=2.32.3, but you have requests 2.32.2 which is incompatible.\n",
      "\n",
      "[notice] A new release of pip is available: 24.2 -> 25.2\n",
      "[notice] To update, run: python.exe -m pip install --upgrade pip\n"
     ]
    }
   ],
   "source": [
    "### Instalando a biblioteca necessária da IBM\n",
    "!pip install -U ibm-watsonx-ai "
   ]
  },
  {
   "cell_type": "code",
   "execution_count": 31,
   "id": "fc7a6665-62c0-4773-b7e5-01582b83532f",
   "metadata": {
    "id": "8daa8c58-92ec-4e08-b303-1ff67a6b3247"
   },
   "outputs": [],
   "source": [
    "model = clf"
   ]
  },
  {
   "cell_type": "markdown",
   "id": "c8f83ced-742f-4756-8648-67a980a92c7c",
   "metadata": {},
   "source": [
    "###### O primeiro passo é criar uma conexão com o watsonx.ai\n",
    "###### Nós iremos fazer essa conexão através de um Client presente na biblioteca do watsonx\n",
    "###### Para isso nosso primeiro passo e gerar uma Chave de Api na IBM Cloud para utilizarmos aqui."
   ]
  },
  {
   "cell_type": "code",
   "execution_count": 32,
   "id": "12a9939e-7943-469c-86cb-2b1933314c0a",
   "metadata": {
    "id": "60314c75-bcf0-493e-9c80-1dcc49438414"
   },
   "outputs": [],
   "source": [
    "CLOUD_API_KEY = os.getenv('API_KEY')"
   ]
  },
  {
   "cell_type": "code",
   "execution_count": 33,
   "id": "2763440a-8243-4bd2-a5d4-af8d15d4c828",
   "metadata": {},
   "outputs": [
    {
     "name": "stdout",
     "output_type": "stream",
     "text": [
      "r3hfHOTrGO_jC2gLvyc05LuRnRpDjZiHoDBSK4awqwwV\n"
     ]
    }
   ],
   "source": [
    "print (CLOUD_API_KEY)"
   ]
  },
  {
   "cell_type": "markdown",
   "id": "3c5eb969-99fe-46f6-b2ab-87a133d486f5",
   "metadata": {},
   "source": [
    "###### Agora iremos nos conectar com o watsonx"
   ]
  },
  {
   "cell_type": "code",
   "execution_count": 34,
   "id": "bb8bc9b8-6930-40f7-9f7b-f58906d653d2",
   "metadata": {
    "id": "2b9d00b4-cb92-4808-bc73-83b45d0c2092"
   },
   "outputs": [],
   "source": [
    "# WML_CREDENTIALS = {\n",
    "#     \"url\": \"https://us-south.ml.cloud.ibm.com\",\n",
    "#     \"apikey\": CLOUD_API_KEY\n",
    "# }\n",
    "WML_CREDENTIALS = {\n",
    "    \"url\": \"https://eu-de.ml.cloud.ibm.com\",\n",
    "    \"apikey\": CLOUD_API_KEY\n",
    "}"
   ]
  },
  {
   "cell_type": "code",
   "execution_count": 35,
   "id": "73c40f8b-5148-4e32-96e3-3cb7d160157b",
   "metadata": {
    "id": "5ca9460c-02b3-484c-a6a6-a03cfc0c2da5"
   },
   "outputs": [
    {
     "data": {
      "text/plain": [
       "'1.0.367'"
      ]
     },
     "execution_count": 35,
     "metadata": {},
     "output_type": "execute_result"
    }
   ],
   "source": [
    "import json\n",
    "from ibm_watson_machine_learning import APIClient\n",
    "\n",
    "wml_client = APIClient(WML_CREDENTIALS)\n",
    "wml_client.version"
   ]
  },
  {
   "cell_type": "markdown",
   "id": "55130e42-8dc4-44cf-a429-67bb3f231fa5",
   "metadata": {},
   "source": [
    "###### Agora que temos nossa conexão com o Client do watsonx\n",
    "###### Precisamos selecionar para qual espaço de implementação iremos fazer o deploy do nosso Modelo\n",
    "###### Utilizaremos o space id para selecionar nosso espaço"
   ]
  },
  {
   "cell_type": "code",
   "execution_count": 36,
   "id": "86337b3a-25cd-4f54-929d-dd857016965d",
   "metadata": {
    "id": "467024d9-ffe6-41ac-8fa0-823549e05190"
   },
   "outputs": [],
   "source": [
    "space_id = os.getenv('SPACE_ID')"
   ]
  },
  {
   "cell_type": "code",
   "execution_count": 37,
   "id": "9bc6a8f4-e5be-492b-a4c1-4a80bc56c107",
   "metadata": {
    "id": "c59051b4-d35f-4401-8ee8-48ddcc7d450a"
   },
   "outputs": [
    {
     "data": {
      "text/plain": [
       "'SUCCESS'"
      ]
     },
     "execution_count": 37,
     "metadata": {},
     "output_type": "execute_result"
    }
   ],
   "source": [
    "wml_client.set.default_space(space_id)"
   ]
  },
  {
   "cell_type": "markdown",
   "id": "ca135c79-edd3-4d3c-b373-5b5be5088ed9",
   "metadata": {},
   "source": [
    "###### Agora iremos armazenar alguns metadados como o nome do modelo, biblioteca utilizada e dados de treinamento"
   ]
  },
  {
   "cell_type": "code",
   "execution_count": 38,
   "id": "5f45a32c-91d9-4da6-872f-8b9b966a16f1",
   "metadata": {
    "id": "7463d6b9-3ac8-4418-9d24-d251c83f5749"
   },
   "outputs": [],
   "source": [
    "sofware_spec_id = wml_client.software_specifications.get_id_by_name(\"runtime-24.1-py3.11\")"
   ]
  },
  {
   "cell_type": "code",
   "execution_count": 39,
   "id": "4318eadf-a08a-4e13-991e-cdb68c05c6f7",
   "metadata": {
    "id": "ee989842-72ab-43cc-8c26-2311670f01f1"
   },
   "outputs": [],
   "source": [
    "metadata = {\n",
    "            wml_client.repository.ModelMetaNames.NAME: 'Modelo Classificador Banco Local',\n",
    "            wml_client.repository.ModelMetaNames.TYPE: 'scikit-learn_1.3',\n",
    "            wml_client.repository.ModelMetaNames.SOFTWARE_SPEC_UID: sofware_spec_id\n",
    "}"
   ]
  },
  {
   "cell_type": "code",
   "execution_count": 40,
   "id": "d40b3cee-3328-41ff-ab9e-e6c19a8d7c33",
   "metadata": {
    "id": "6b8d35e4-fa48-425f-b422-12cc0cdb7769"
   },
   "outputs": [],
   "source": [
    "train_labels = y_train\n",
    "train_data = X_train"
   ]
  },
  {
   "cell_type": "markdown",
   "id": "bd63810c-bcd2-4806-9861-118c68ae9e31",
   "metadata": {},
   "source": [
    "###### Fazendo o Deploy do modelo"
   ]
  },
  {
   "cell_type": "code",
   "execution_count": 41,
   "id": "10deb76b-572a-4dd6-af55-1755dbe36706",
   "metadata": {
    "id": "4043f304-0690-4d71-a590-01f94eb81bf9"
   },
   "outputs": [],
   "source": [
    "published_model = wml_client.repository.store_model(\n",
    "    model=model,\n",
    "    meta_props=metadata,\n",
    "    training_data=train_data,\n",
    "    training_target=train_labels)"
   ]
  },
  {
   "cell_type": "markdown",
   "id": "6e85bb6d-ecc6-4911-ab09-69e522ae04a5",
   "metadata": {},
   "source": [
    "###### Agora vamos verificar os detalhes do modelo publicado \n",
    "###### Teste para ver se a conexão deu certo"
   ]
  },
  {
   "cell_type": "code",
   "execution_count": 42,
   "id": "dbb94bc1-a27a-4c43-9d5f-74f6daab4ca0",
   "metadata": {
    "id": "0ad5c82e-90bd-4be4-b2be-d2cadda05c5e"
   },
   "outputs": [
    {
     "name": "stdout",
     "output_type": "stream",
     "text": [
      "{\n",
      "  \"metadata\": {\n",
      "    \"name\": \"Modelo Classificador Banco Local\",\n",
      "    \"space_id\": \"a83d5730-2e4c-4332-a978-635834cbe265\",\n",
      "    \"resource_key\": \"bd6f6333-1d69-4275-ba1f-1585b12c4094\",\n",
      "    \"id\": \"5d1392c6-e81d-4423-bc9c-c4868c7f7c09\",\n",
      "    \"created_at\": \"2025-08-26T13:10:03Z\",\n",
      "    \"rov\": {\n",
      "      \"member_roles\": {\n",
      "        \"IBMid-696000BK9F\": {\n",
      "          \"user_iam_id\": \"IBMid-696000BK9F\",\n",
      "          \"roles\": [\n",
      "            \"OWNER\"\n",
      "          ]\n",
      "        }\n",
      "      }\n",
      "    },\n",
      "    \"owner\": \"IBMid-696000BK9F\"\n",
      "  },\n",
      "  \"entity\": {\n",
      "    \"software_spec\": {\n",
      "      \"id\": \"45f12dfe-aa78-5b8d-9f38-0ee223c47309\"\n",
      "    },\n",
      "    \"type\": \"scikit-learn_1.3\",\n",
      "    \"training_data_references\": [\n",
      "      {\n",
      "        \"id\": \"1\",\n",
      "        \"type\": \"container\",\n",
      "        \"connection\": null,\n",
      "        \"location\": {},\n",
      "        \"schema\": {\n",
      "          \"id\": \"1\",\n",
      "          \"type\": \"DataFrame\",\n",
      "          \"fields\": [\n",
      "            {\n",
      "              \"name\": \"buying\",\n",
      "              \"type\": \"int64\",\n",
      "              \"nullable\": false\n",
      "            },\n",
      "            {\n",
      "              \"name\": \"maint\",\n",
      "              \"type\": \"int64\",\n",
      "              \"nullable\": false\n",
      "            },\n",
      "            {\n",
      "              \"name\": \"doors\",\n",
      "              \"type\": \"int64\",\n",
      "              \"nullable\": false\n",
      "            },\n",
      "            {\n",
      "              \"name\": \"persons\",\n",
      "              \"type\": \"int64\",\n",
      "              \"nullable\": false\n",
      "            },\n",
      "            {\n",
      "              \"name\": \"lug_boot\",\n",
      "              \"type\": \"int64\",\n",
      "              \"nullable\": false\n",
      "            },\n",
      "            {\n",
      "              \"name\": \"safety\",\n",
      "              \"type\": \"int64\",\n",
      "              \"nullable\": false\n",
      "            }\n",
      "          ]\n",
      "        }\n",
      "      }\n",
      "    ],\n",
      "    \"schemas\": {\n",
      "      \"input\": [\n",
      "        {\n",
      "          \"id\": \"1\",\n",
      "          \"type\": \"struct\",\n",
      "          \"fields\": [\n",
      "            {\n",
      "              \"name\": \"buying\",\n",
      "              \"type\": \"int64\",\n",
      "              \"nullable\": false\n",
      "            },\n",
      "            {\n",
      "              \"name\": \"maint\",\n",
      "              \"type\": \"int64\",\n",
      "              \"nullable\": false\n",
      "            },\n",
      "            {\n",
      "              \"name\": \"doors\",\n",
      "              \"type\": \"int64\",\n",
      "              \"nullable\": false\n",
      "            },\n",
      "            {\n",
      "              \"name\": \"persons\",\n",
      "              \"type\": \"int64\",\n",
      "              \"nullable\": false\n",
      "            },\n",
      "            {\n",
      "              \"name\": \"lug_boot\",\n",
      "              \"type\": \"int64\",\n",
      "              \"nullable\": false\n",
      "            },\n",
      "            {\n",
      "              \"name\": \"safety\",\n",
      "              \"type\": \"int64\",\n",
      "              \"nullable\": false\n",
      "            }\n",
      "          ]\n",
      "        }\n",
      "      ],\n",
      "      \"output\": []\n",
      "    },\n",
      "    \"label_column\": \"class\"\n",
      "  }\n",
      "}\n"
     ]
    }
   ],
   "source": [
    "import json\n",
    "\n",
    "published_model_id = wml_client.repository.get_model_id(published_model)\n",
    "model_details = wml_client.repository.get_details(published_model_id)\n",
    "print(json.dumps(model_details, indent=2))"
   ]
  },
  {
   "cell_type": "markdown",
   "id": "a0f37beb-72af-4c0b-a40a-a00b982874a7",
   "metadata": {},
   "source": [
    "###### Agora com o Modelo Publicado no WatsonX vamos criar sua Implementação\n",
    "###### A implementação irá gerar uma URL para podermos consumirmos o modelo online"
   ]
  },
  {
   "cell_type": "code",
   "execution_count": 43,
   "id": "7ec9b8d5-696e-4031-bf32-0d340d1f2dbc",
   "metadata": {
    "id": "cec80f67-1aa1-4038-ab59-9c74922e73b4"
   },
   "outputs": [
    {
     "name": "stdout",
     "output_type": "stream",
     "text": [
      "\n",
      "\n",
      "#######################################################################################\n",
      "\n",
      "Synchronous deployment creation for uid: '5d1392c6-e81d-4423-bc9c-c4868c7f7c09' started\n",
      "\n",
      "#######################################################################################\n",
      "\n",
      "\n",
      "initializing\n",
      "Note: online_url and serving_urls are deprecated and will be removed in a future release. Use inference instead.\n",
      ".\n",
      "ready\n",
      "\n",
      "\n",
      "------------------------------------------------------------------------------------------------\n",
      "Successfully finished deployment creation, deployment_uid='140e5b11-7ddf-4c99-b71f-2bce803acdee'\n",
      "------------------------------------------------------------------------------------------------\n",
      "\n",
      "\n"
     ]
    }
   ],
   "source": [
    "metadata = {\n",
    "    wml_client.deployments.ConfigurationMetaNames.NAME: \"Implementação Modelo Banco Local\",\n",
    "    wml_client.deployments.ConfigurationMetaNames.ONLINE: {}\n",
    "}\n",
    "\n",
    "created_deployment = wml_client.deployments.create(published_model_id, meta_props=metadata)"
   ]
  },
  {
   "cell_type": "code",
   "execution_count": 44,
   "id": "13ee52b8-be25-4f73-8710-5013cf93c03b",
   "metadata": {
    "id": "f54ea4d5-85f8-4cc2-909e-cab56f3bc836"
   },
   "outputs": [],
   "source": [
    "deployment_id = wml_client.deployments.get_id(created_deployment)"
   ]
  },
  {
   "cell_type": "markdown",
   "id": "a78e9343-71a2-40ba-856f-6d36e34a308a",
   "metadata": {},
   "source": [
    "###### Agora temos nosso modelo implementado em Cloud e podemos consumir via URL "
   ]
  },
  {
   "cell_type": "code",
   "execution_count": 45,
   "id": "1ef08bbe-c9fa-42c8-b4c7-9bbe6b8c5fe2",
   "metadata": {
    "id": "278170b8-17a6-49d6-933d-ffca35d2ceb9"
   },
   "outputs": [
    {
     "name": "stdout",
     "output_type": "stream",
     "text": [
      "https://eu-de.ml.cloud.ibm.com/ml/v4/deployments/140e5b11-7ddf-4c99-b71f-2bce803acdee/predictions\n"
     ]
    }
   ],
   "source": [
    "scoring_endpoint = wml_client.deployments.get_scoring_href(created_deployment)\n",
    "print(scoring_endpoint)"
   ]
  },
  {
   "cell_type": "code",
   "execution_count": 46,
   "id": "16121b39-5a0c-4c6e-8ffe-be7ea8eca328",
   "metadata": {
    "id": "350437e6-0e17-4a48-8108-0fe76c717676"
   },
   "outputs": [
    {
     "name": "stdout",
     "output_type": "stream",
     "text": [
      "------------------------------------  --------------------------------  -----  ------------------------  -------------  ----------  ----------------\n",
      "GUID                                  NAME                              STATE  CREATED                   ARTIFACT_TYPE  SPEC_STATE  SPEC_REPLACEMENT\n",
      "140e5b11-7ddf-4c99-b71f-2bce803acdee  Implementação Modelo Banco Local  ready  2025-08-26T13:10:17.620Z  model          supported\n",
      "------------------------------------  --------------------------------  -----  ------------------------  -------------  ----------  ----------------\n"
     ]
    },
    {
     "data": {
      "text/html": [
       "<div>\n",
       "<style scoped>\n",
       "    .dataframe tbody tr th:only-of-type {\n",
       "        vertical-align: middle;\n",
       "    }\n",
       "\n",
       "    .dataframe tbody tr th {\n",
       "        vertical-align: top;\n",
       "    }\n",
       "\n",
       "    .dataframe thead th {\n",
       "        text-align: right;\n",
       "    }\n",
       "</style>\n",
       "<table border=\"1\" class=\"dataframe\">\n",
       "  <thead>\n",
       "    <tr style=\"text-align: right;\">\n",
       "      <th></th>\n",
       "      <th>GUID</th>\n",
       "      <th>NAME</th>\n",
       "      <th>STATE</th>\n",
       "      <th>CREATED</th>\n",
       "      <th>ARTIFACT_TYPE</th>\n",
       "      <th>SPEC_STATE</th>\n",
       "      <th>SPEC_REPLACEMENT</th>\n",
       "    </tr>\n",
       "  </thead>\n",
       "  <tbody>\n",
       "    <tr>\n",
       "      <th>0</th>\n",
       "      <td>140e5b11-7ddf-4c99-b71f-2bce803acdee</td>\n",
       "      <td>Implementação Modelo Banco Local</td>\n",
       "      <td>ready</td>\n",
       "      <td>2025-08-26T13:10:17.620Z</td>\n",
       "      <td>model</td>\n",
       "      <td>supported</td>\n",
       "      <td></td>\n",
       "    </tr>\n",
       "  </tbody>\n",
       "</table>\n",
       "</div>"
      ],
      "text/plain": [
       "                                   GUID                              NAME  \\\n",
       "0  140e5b11-7ddf-4c99-b71f-2bce803acdee  Implementação Modelo Banco Local   \n",
       "\n",
       "   STATE                   CREATED ARTIFACT_TYPE SPEC_STATE SPEC_REPLACEMENT  \n",
       "0  ready  2025-08-26T13:10:17.620Z         model  supported                   "
      ]
     },
     "execution_count": 46,
     "metadata": {},
     "output_type": "execute_result"
    }
   ],
   "source": [
    "wml_client.deployments.list()"
   ]
  },
  {
   "cell_type": "markdown",
   "id": "e6bff753-531a-459f-935d-30919554fac9",
   "metadata": {},
   "source": [
    "###### Vamos fazer um pequeno teste de escoragem para ver o comportamente do modelo"
   ]
  },
  {
   "cell_type": "code",
   "execution_count": 47,
   "id": "92175626-ad37-4598-b7ce-da531e77d9e5",
   "metadata": {
    "id": "28cff6dd-1fb3-4b43-a8b7-a2730ab4c7b0"
   },
   "outputs": [
    {
     "data": {
      "text/plain": [
       "'class'"
      ]
     },
     "execution_count": 47,
     "metadata": {},
     "output_type": "execute_result"
    }
   ],
   "source": [
    "col_names.pop()"
   ]
  },
  {
   "cell_type": "code",
   "execution_count": 48,
   "id": "b3c391a3-e1e0-4982-9475-fa1845fa8ba4",
   "metadata": {
    "id": "af76bb8e-df8d-4be2-8285-4ab71372891f"
   },
   "outputs": [],
   "source": [
    "fields = col_names"
   ]
  },
  {
   "cell_type": "code",
   "execution_count": 49,
   "id": "1e8561b7-6412-40bf-b3b4-775486740b7f",
   "metadata": {
    "id": "aca74990-760c-454d-a31a-dd1bf562c9b9"
   },
   "outputs": [],
   "source": [
    "teste = pd.concat([X_train, y_train], axis=1)"
   ]
  },
  {
   "cell_type": "code",
   "execution_count": 50,
   "id": "5b8d9468-9d8f-49be-bdbe-4a32faa0f8bf",
   "metadata": {
    "id": "ea71ade3-1a8c-48a1-9187-1e4aced4eefe"
   },
   "outputs": [
    {
     "name": "stdout",
     "output_type": "stream",
     "text": [
      "deployment id: 140e5b11-7ddf-4c99-b71f-2bce803acdee\n",
      "Single record scoring result: \n",
      " fields: ['prediction', 'probability'] \n",
      " values:  ['unacc', [0.0, 0.0, 1.0, 0.0]]\n"
     ]
    }
   ],
   "source": [
    "deployment_uid = deployment_id\n",
    "scoring_endpoint = None\n",
    "print(\"deployment id:\", deployment_uid)\n",
    "\n",
    "for deployment in wml_client.deployments.get_details()['resources']:\n",
    "    if deployment_uid in deployment['metadata']['id']:\n",
    "        scoring_endpoint = deployment['entity']['status']['online_url']['url']\n",
    "\n",
    "\n",
    "values= X_train[fields].dropna().sample(100).values.tolist()\n",
    "payload_scoring = {\"fields\": fields,\"values\": values}\n",
    "payload = {\n",
    "    wml_client.deployments.ScoringMetaNames.INPUT_DATA: [payload_scoring]\n",
    "}\n",
    "scoring_response = wml_client.deployments.score(deployment_uid, payload)\n",
    "\n",
    "print('Single record scoring result:', '\\n fields:', scoring_response['predictions'][0]['fields'], '\\n values: ', scoring_response['predictions'][0]['values'][0])"
   ]
  },
  {
   "cell_type": "code",
   "execution_count": null,
   "id": "9db6f1e0-a7d7-4039-b797-e8dd1d73b613",
   "metadata": {
    "id": "014bc384-b26d-4c6c-a78e-51e9aaf693df"
   },
   "outputs": [],
   "source": []
  }
 ],
 "metadata": {
  "kernelspec": {
   "display_name": "Python 3 (ipykernel)",
   "language": "python",
   "name": "python3"
  },
  "language_info": {
   "codemirror_mode": {
    "name": "ipython",
    "version": 3
   },
   "file_extension": ".py",
   "mimetype": "text/x-python",
   "name": "python",
   "nbconvert_exporter": "python",
   "pygments_lexer": "ipython3",
   "version": "3.12.6"
  }
 },
 "nbformat": 4,
 "nbformat_minor": 5
}
